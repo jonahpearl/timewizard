{
 "cells": [
  {
   "cell_type": "markdown",
   "id": "8918793f",
   "metadata": {},
   "source": [
    "# Introduction"
   ]
  },
  {
   "cell_type": "markdown",
   "id": "18266b4e",
   "metadata": {},
   "source": [
    "This notebook explains some core principles underlying timewizard. For fully-worked examples, see the Tutorials, and for a full reference, see the API Reference."
   ]
  },
  {
   "cell_type": "markdown",
   "id": "69d63e92",
   "metadata": {},
   "source": [
    "## What?\n",
    "Timewizard is a Python library that makes it easier to work with timeseries data that contain events of interest, especially in the context of neuroscience. Timewizard makes the following tasks quick and efficient:\n",
    "* collecting peri-event traces of any-dimensional data, efficiently + with good boundary handling\n",
    "* collecting peri-event events (i.e. lick times relative to a stimulus; or spike times for rasters)\n",
    "* aligning data sampled at different rates\n",
    "* describing stimulus trains (i.e. optogenetic stimuli), or any other kind of events with onsets/offsets\n",
    "* matching events across different sensors\n",
    "\n",
    "Additionally, timewizard provides utility functions for state sequences (i.e. for finding runs and n-grams)."
   ]
  },
  {
   "cell_type": "markdown",
   "id": "a3546ac7",
   "metadata": {},
   "source": [
    "## Why?\n",
    "Existing libraries either:\n",
    "* provide functional building blocks, e.g. numpy\n",
    "* store your data, e.g. NWB\n",
    "* or are very modality-specific, e.g. pynapple. \n",
    "\n",
    "I use and enjoy all of those packages, but I wanted something that would help me analyze generic timeseries and peri-event data with no fuss.\n",
    "\n",
    "Analyzing timeseries data can be difficult for a few key reasons:\n",
    "* Aligning data collected at different sampling rates is non-trivial, and can be memory intensive if done poorly.\n",
    "* Many implementations of peri-stimulus analyses are quite slow.\n",
    "* Handling edge cases (i.e. one data stream ends before the other) is mind-numbing and time-consuming.\n",
    "\n",
    "Timewizard's goal is to provide a set of generic, API-light, modality-agnostic functions that wrap and simplify common timeseries manipulations.\n",
    "\n",
    "## Core principles\n",
    "**Fewer for-loops**: timewizard allows you to collect peri-event data for all your events and all your data in one fell swoop (assuming you have all your data in an `np.ndarray`). Stop looping over your events! \n",
    "\n",
    ":::{note}\n",
    "See: `tw.perievent_traces`\n",
    ":::\n",
    "\n",
    "**Only interpolate what you need...**: timewizard provides a thin wrapper around `scipy.stats.interp1d` that makes it easy to only interpolate a particular subset of your data. For example, if you need to know an animal's position when a given neuron fired, you don't need to first downsample / upsample all the data; just interpolate its position at the neuron's firing times, saving time + memory.\n",
    "\n",
    ":::{note}\n",
    "See: `tw.map_values(...interpolate=True)`\n",
    ":::\n",
    "\n",
    "**...or skip interpolation entirely**: timewizard also provides an \"nearest value\" alternative to interpolation. For example, say you've already smoothed neural spike data into a continuous firing rate sampled at 1 kHz; there's no need to get any more precise than that. (You don't have to interpolate down to the nearest microsecond because neural firing rates don't change that quickly). If you then want to know the neural firing rate at some time `t`, you only need to find the firing rate at some `t'` within 1 ms of t in your existing firing rate data. \n",
    "\n",
    ":::{note}\n",
    "See: `tw.map_values(...interpolate=False)`\n",
    ":::\n",
    "\n",
    "## Caveat emptor\n",
    "* NB: timewizard assumes that the timestamps of your data are already aligned to a single clock. If you need help synchronizing data across multiple sources, check out the following resources: [todo -- add various links explaining sync codes + barcodes + triggering].\n"
   ]
  },
  {
   "cell_type": "markdown",
   "id": "4232dda8",
   "metadata": {},
   "source": [
    "# Usage\n",
    "\n",
    "## How does my data need to look to use it?\n",
    "Timewizard functions rely on a very minimal set of assumptions. To wit, your data must:\n",
    "* have time along the 0-th axis (TODO: kwarg to change this)\n",
    "* be *sorted* along the time (0-th) axis\n",
    "* be convertible to numpy arrays\n",
    "\n",
    "Head over to the Tutorials to see timewizard in action!"
   ]
  },
  {
   "cell_type": "markdown",
   "id": "38a7944b",
   "metadata": {},
   "source": []
  }
 ],
 "metadata": {
  "kernelspec": {
   "display_name": "Python 3 (ipykernel)",
   "language": "python",
   "name": "python3"
  },
  "language_info": {
   "codemirror_mode": {
    "name": "ipython",
    "version": 3
   },
   "file_extension": ".py",
   "mimetype": "text/x-python",
   "name": "python",
   "nbconvert_exporter": "python",
   "pygments_lexer": "ipython3",
   "version": "3.9.13"
  }
 },
 "nbformat": 4,
 "nbformat_minor": 5
}
