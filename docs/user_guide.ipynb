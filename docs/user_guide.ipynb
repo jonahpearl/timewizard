{
 "cells": [
  {
   "cell_type": "markdown",
   "id": "18266b4e",
   "metadata": {},
   "source": [
    "This notebook explains some core principles underlying timewizard, discusses when you should use it, and shows some basic functionality. For fully-worked examples, see the Gallery, and for a full reference, see the API Reference."
   ]
  },
  {
   "cell_type": "markdown",
   "id": "8918793f",
   "metadata": {},
   "source": [
    "# Core Principles"
   ]
  },
  {
   "cell_type": "markdown",
   "id": "69d63e92",
   "metadata": {},
   "source": [
    "Timewizard is a Python library that makes it easier to work with timeseries data, especially in the context of neuroscience. Current libraries in the timeseries ecosystem tend to fall into a few specific camps:\n",
    "\n",
    "* very generic (numpy, scipy, matplotlib, seaborn, pandas)\n",
    "* API-heavy (NWB, pynapple)\n",
    "* modality-specific (SpikeInterface, CaImAn)\n",
    "\n",
    "Further, these libraries don't really solve the core problem of manipulating timeseries data -- they mostly either provide functional building blocks (e.g. numpy), store your data (e.g. NWB), or are overly modality-specific. To be more specific, analyzing timeseries data can be difficult for a few key reasons:\n",
    "* Aligning multiple data streams collected at different sampling rates is non-trivial, and can be memory intensive if done poorly.\n",
    "* The naive implementations of peri-stimulus analyses can be very slow.\n",
    "* Handling edge cases (i.e. one data stream ends before the other) can be tricky.\n",
    "\n",
    "Timewizard's goal is to provide a set of generic, API-light, modality-agnostic functions that wrap and simplify common timeseries manipulations. As such, the timewizard functions rely on a very minimal set of assumptions. To wit, your data must:\n",
    "* have time along the 0-th axis (TODO: kwarg to change this)\n",
    "* be sorted along the time (0-th) axis\n",
    "* be convertible to numpy arrays\n",
    "With these minimal assumptions, we can write some very powerful and generic code!\n",
    "\n",
    "As timewizard was developed in the context of neuroscience, much of the functionality is currently built around \"peri-event\" analysis. Specifically, timewizard can help you easily and efficiently:\n",
    "* align data sampled at different rates\n",
    "* align matched events across two different data streams\n",
    "* collect peri-event traces of any-dimensional data\n",
    "* enumerate peri-event events (i.e. lick times relative to a stimulus; or spike times for rasters)\n",
    "* describe stimulus trains (i.e. onsets and durations of complex optogenetic stimuli)\n"
   ]
  },
  {
   "cell_type": "markdown",
   "id": "518c7887",
   "metadata": {},
   "source": [
    ":::{note}\n",
    "Peri-event analyses aim to discover what happens in one signal around the time of some chosen, recurring event. For example, a peri-event plot of your blood sugar after you ate a big dessert might show a large spike, with trial to trial variation based on the type of dessert; or, a peri-event analysis of visually-responsive neurons in the brain after a test subject saw many images over many trials might show that the neurons fired more after certain images than others.\n",
    ":::"
   ]
  },
  {
   "cell_type": "markdown",
   "id": "763dc042",
   "metadata": {},
   "source": [
    "# When to Use"
   ]
  },
  {
   "cell_type": "code",
   "execution_count": null,
   "id": "e1022f36",
   "metadata": {},
   "outputs": [],
   "source": []
  },
  {
   "cell_type": "markdown",
   "id": "fd8b0a32",
   "metadata": {},
   "source": [
    "# Basic Usage"
   ]
  },
  {
   "cell_type": "code",
   "execution_count": null,
   "id": "3d9ebff3",
   "metadata": {},
   "outputs": [],
   "source": []
  },
  {
   "cell_type": "code",
   "execution_count": null,
   "id": "c5bf7cb9",
   "metadata": {},
   "outputs": [],
   "source": []
  }
 ],
 "metadata": {
  "kernelspec": {
   "display_name": "Python 3 (ipykernel)",
   "language": "python",
   "name": "python3"
  },
  "language_info": {
   "codemirror_mode": {
    "name": "ipython",
    "version": 3
   },
   "file_extension": ".py",
   "mimetype": "text/x-python",
   "name": "python",
   "nbconvert_exporter": "python",
   "pygments_lexer": "ipython3",
   "version": "3.9.13"
  }
 },
 "nbformat": 4,
 "nbformat_minor": 5
}
